{
 "cells": [
  {
   "cell_type": "markdown",
   "metadata": {},
   "source": [
    "## Beijing Lineage MTBC - Phylogenetic Run 3 ##\n",
    "\n",
    "### 30 June 2016 ###\n",
    "#### Input Data ####\n",
    "The input data for this run are VCF files containing the SNPs from 110 unique strains from ~150 samples from the Beijing Lineage, where SNPs from repetitive regions and antibiotic-resistance have been removed. The entire list of strains used in this run can be found in the `convertvcf` folder in the file `unique_strains.txt`.\n",
    "\n",
    "#### VCF Conversion #####\n",
    "The collection of VCF files were converted to FASTA file format with the tool `convertvcf.py` under the `convertvcf` folder with the following commands:\n",
    "\n",
    "```bash\n",
    "run=run3\n",
    "inputDir=/home/zhf615/TB_test/MALAWI/test/shuffled/results\n",
    "outputDir=/global/scratch/seanla/Data/MTBC/$run\n",
    "snpDir=$outputDir/snps\n",
    "snpPrefix=$snpDir/$run\n",
    "convertVcfDir=/home/seanla/Projects/beijing_ancestor_mtbc/convertvcf\n",
    "strains=$convertVcfDir/unique_strains.txt\n",
    "convertVcf=$convertVcfDir/convertvcf.py\n",
    "\n",
    "mkdir -p $snpDir\n",
    "\n",
    "python $convertVcf -i $inputDir -o $snpPrefix -s $strains -r \"(\\d|\\D)*_unresi_unrepeted.vcf$\" -f -p\n",
    "```\n",
    "\n",
    "Where `(\\d|\\D)*_unresi_unrepeted.vcf$` is the regular expression for the appropriate VCF files.\n",
    "\n",
    "#### jModelTest ####\n",
    "jModelTest was used to infer the best-fit model of nucleotide evolution with the following commands:\n",
    "\n",
    "```bash\n",
    "run=run3\n",
    "prefix=/global/scratch/seanla/Data/MTBC/$run\n",
    "phylip=$prefix/snps/$run.phy\n",
    "jmodelDir=$prefix/jmodeltest\n",
    "output=$jmodelDir/jmodeltest-results.out\n",
    "jModelTest=/home/seanla/Software/jmodeltest-2.1.10/jModelTest.jar\n",
    "\n",
    "mkdir -p $jmodelDir\n",
    "\n",
    "java -jar $jModelTest -tr ${PBS_NUM_PPN} -d $phylip -o $output -AIC -a -f -g 4 -i -H AIC\n",
    "```\n",
    "\n",
    "An explanation of the parameters used:\n",
    "* `-AIC` indicates we used the Akaike information criterion to infer the best fit model.\n",
    "* `-a` indicates we estimated the model-averaged phylogeny for each active criterion.\n",
    "* `-f` indicates we included models with unequal base frequencies.\n",
    "* `-g 4` indicates we included models with rate variation among sites and sets the number of categories to 4.\n",
    "* `-i` indicates we included models with a proportion invariable sites.\n",
    "* `-H AIC` indicates we used the AIC information criterion for clustering search."
   ]
  },
  {
   "cell_type": "code",
   "execution_count": null,
   "metadata": {
    "collapsed": true
   },
   "outputs": [],
   "source": []
  }
 ],
 "metadata": {
  "kernelspec": {
   "display_name": "Python 2",
   "language": "python",
   "name": "python2"
  },
  "language_info": {
   "codemirror_mode": {
    "name": "ipython",
    "version": 2
   },
   "file_extension": ".py",
   "mimetype": "text/x-python",
   "name": "python",
   "nbconvert_exporter": "python",
   "pygments_lexer": "ipython2",
   "version": "2.7.11"
  }
 },
 "nbformat": 4,
 "nbformat_minor": 0
}
