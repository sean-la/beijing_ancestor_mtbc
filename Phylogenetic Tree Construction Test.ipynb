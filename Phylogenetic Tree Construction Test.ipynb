{
 "cells": [
  {
   "cell_type": "markdown",
   "metadata": {},
   "source": [
    "**Wednesday, 15 June 2016**\n",
    "\n",
    "The VCF files containing the SNPs of the first 13 strains of the Beijing\n",
    "lineage strains were transferred to folder\n",
    "`/global/scratch/seanla/Data/MTBC/snps` for testing.\n",
    "\n",
    "Using our custom tool `vcf2nexus.py` located in the folder\n",
    "`/home/seanla/Projects/beijing_ancestor_mtbc/vcf2nexus`, the VCF files were converted into the NEXUS file `vcf2nexus-test.nex` located in the folder `/global/scratch/seanla/Data/MTBC/06-15`.\n",
    "\n",
    "The file `vcf2nexus-test.nex` was then converted to the PHYLIP format using the command \n",
    "```\n",
    "java -jar jModelTest.jar -d /global/scratch/seanla/Data/MTBC/06-15/vcf2nexus-test.nex -toPhylip\n",
    "```\n",
    "\n",
    "The output of this command, `vcf2nexus-test.nex.phy`, was given as input to jModelTest with the command:\n",
    "\n",
    "```\n",
    "java -jar jModelTest.jar -d /global/scratch/seanla/Data/MTBC/06-15/vcf2nexus-test.nex.phy -o /global/scratch/seanla/Data/MTBC/06-15/jmt.out -s 11 -f -i -g 4 -AIC -AICc -DT -p -a -w -v\n",
    "```\n",
    "\n",
    "The program determined, using the Akaike Information Criterion, that the transversion model (TVM) was the best fit for our data:\n",
    "\n",
    "```\n",
    "::Best Models::\n",
    "\n",
    "        Model           f(a)    f(c)    f(g)    f(t)    kappa   titv    Ra      Rb      Rc      Rd      Re      Rf      pInv    gamma\n",
    "----------------------------------------------------------------------------------------------------------------------------------------\n",
    "AIC     TVM             0.22    0.29    0.30    0.20    0.00    0.00      0.956   3.461   0.327   0.863   3.461   1.000 N/A     N/A\n",
    "```"
   ]
  },
  {
   "cell_type": "code",
   "execution_count": null,
   "metadata": {
    "collapsed": true
   },
   "outputs": [],
   "source": []
  }
 ],
 "metadata": {
  "kernelspec": {
   "display_name": "Python 2",
   "language": "python",
   "name": "python2"
  },
  "language_info": {
   "codemirror_mode": {
    "name": "ipython",
    "version": 2
   },
   "file_extension": ".py",
   "mimetype": "text/x-python",
   "name": "python",
   "nbconvert_exporter": "python",
   "pygments_lexer": "ipython2",
   "version": "2.7.11"
  }
 },
 "nbformat": 4,
 "nbformat_minor": 0
}
