{
 "cells": [
  {
   "cell_type": "markdown",
   "metadata": {},
   "source": [
    "## External Software Used ##\n",
    "This list only includes software used in successful phylogenetic analyses - PhyML is not included here since it was slow.\n",
    "* jModelTest 2.1.10 - retrieved on 7 June 2016 from `https://drive.google.com/folderview?id=0ByrkKOPtF_n_OUs3d0dNcnJPYXM#list`\n",
    "* MEGA 7 - retrieved on 2 June 2016 from `megasoftware.net/home`\n",
    "* BEAST 2.4.1 - retrieved on 21 June 2016 from `https://github.com/CompEvol/beast2/releases`\n",
    "* RAxML 7.2.8 - built-in on Breezy Westgrid cluster"
   ]
  }
 ],
 "metadata": {
  "anaconda-cloud": {},
  "kernelspec": {
   "display_name": "Python [Root]",
   "language": "python",
   "name": "Python [Root]"
  },
  "language_info": {
   "codemirror_mode": {
    "name": "ipython",
    "version": 3
   },
   "file_extension": ".py",
   "mimetype": "text/x-python",
   "name": "python",
   "nbconvert_exporter": "python",
   "pygments_lexer": "ipython3",
   "version": "3.5.2"
  }
 },
 "nbformat": 4,
 "nbformat_minor": 0
}
