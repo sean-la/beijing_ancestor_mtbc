{
 "cells": [
  {
   "cell_type": "markdown",
   "metadata": {},
   "source": [
    "# Run 8 - Bayes Tree with NJ Starting Tree #\n",
    "## 16 August 2016 ##\n",
    "Bayesian analysis was re-run on the 90 samples from the Beijing lineage using a neighbor joining tree as the starting tree, all from the results from run 7. The Newick file of the neighbor joining tree can be found at `/runs/run7/nj/run7mega-nj_consensus.newick`, and the original BEAST 2 XML file can be found at `/runs/run7/bayes/run7beast.xml`. The new BEAST 2 XML file can be found at `/runs/run8/bayes/run8bayes.xml`.\n",
    "\n",
    "To run the Bayesian analysis using the NJ starting tree, the following line was removed from the XML file:\n",
    "\n",
    "```\n",
    "<init id=\"RandomTree.t:run7\" spec=\"beast.evolution.tree.RandomTree\" estimate=\"false\" initial=\"@Tree.t:run7\" taxa=\"@run7\">\n",
    "        <populationModel id=\"ConstantPopulation0.t:run7\" spec=\"ConstantPopulation\">\n",
    "            <parameter id=\"randomPopSize.t:run7\" name=\"popSize\">1.0</parameter>\n",
    "        </populationModel>\n",
    "</init>\n",
    "```\n",
    "\n",
    "And was replaced with the following line:\n",
    "\n",
    "```\n",
    "<init id=\"StartingTree.t:run8\" initial=\"@Tree.t:run8\" spec=\"beast.util.TreeParser\" IsLabelledNewick=\"true\"> <input name=\"newick\"> ((((((((((((((((ERR552550,(ERR550947,ERR551412)1.0000)1.0000,(ERR551572,ERR552954)0.8730)0.9300,ERR550644)0.9100,(ERR550927,ERR551225)0.9930)1.0000,((((ERR551184,(((ERR552444,(ERR552755,(ERR551086,ERR552912)0.5070)1.0000)0.9880,ERR552838)1.0000,(ERR551636,ERR552760)1.0000)1.0000)0.9960,ERR552177)1.0000,ERR553274)1.0000,(ERR551956,ERR553107)1.0000)1.0000)1.0000,(ERR550941,(ERR553277,(ERR551934,ERR553086)1.0000)0.9330)0.9930)0.4280,ERR552555)0.5440,(((ERR551978,ERR553291)0.9510,ERR552190)0.9480,((((ERR551855,ERR552743)1.0000,ERR551930)1.0000,(ERR553156,ERR553116)0.8370)0.6620,((ERR553324,((ERR619080,ERR553313)1.0000,ERR551079)0.6280)1.0000,((ERR550910,ERR551007)0.9690,ERR551990)0.9940)0.7030)0.6310)0.0560)0.2950,((((((ERR551156,ERR551928)0.6180,ERR551693)0.9010,(ERR550957,ERR551071)1.0000)0.5070,ERR552689)0.9590,(ERR552894,ERR551680)1.0000)0.9730,(ERR552787,ERR552331)1.0000)0.6780)0.7330,ERR551369)0.1630,((ERR552141,((((ERR551311,ERR553068)0.6370,((ERR551554,(ERR552429,ERR552580)0.9530)0.8080,(ERR552136,ERR551212)0.9770)0.2730)0.3240,((ERR551494,ERR552482)0.4460,ERR552090)0.4810)0.6810,(ERR553237,ERR551090)0.3680)0.8140)1.0000,ERR552910)0.9440)0.3490,(ERR553171,ERR551520)1.0000)0.9150,ERR550739)0.9940,((((ERR551293,(ERR551159,ERR553098)1.0000)0.7130,(ERR551879,ERR551201)1.0000)0.5190,ERR553139)0.1540,ERR552130)0.5610)0.3300,ERR553082)1.0000,((ERR552358,ERR551556)0.7950,ERR552939)0.5400,(((ERR551167,ERR550782)0.8740,(ERR550984,ERR552493)0.4340)0.2430,(((ERR550778,ERR551944)0.5470,(ERR552907,(ERR551360,ERR551804)0.6880)0.0540)0.0850,(ERR551821,ERR550658)0.3260)0.0550)0.1080); </input> </init> \n",
    "```\n",
    "\n",
    "As well, all occurrences of `run7` were replaced with `run8` in the XML file."
   ]
  },
  {
   "cell_type": "code",
   "execution_count": null,
   "metadata": {
    "collapsed": true
   },
   "outputs": [],
   "source": []
  }
 ],
 "metadata": {
  "kernelspec": {
   "display_name": "Python [Root]",
   "language": "python",
   "name": "Python [Root]"
  },
  "language_info": {
   "codemirror_mode": {
    "name": "ipython",
    "version": 3
   },
   "file_extension": ".py",
   "mimetype": "text/x-python",
   "name": "python",
   "nbconvert_exporter": "python",
   "pygments_lexer": "ipython3",
   "version": "3.5.2"
  }
 },
 "nbformat": 4,
 "nbformat_minor": 0
}
