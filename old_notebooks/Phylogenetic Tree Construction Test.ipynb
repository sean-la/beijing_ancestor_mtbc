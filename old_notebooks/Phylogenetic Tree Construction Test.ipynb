{
 "cells": [
  {
   "cell_type": "markdown",
   "metadata": {},
   "source": [
    "**Wednesday, 15 June 2016**\n",
    "\n",
    "The VCF files containing the SNPs of the first 13 strains of the Beijing\n",
    "lineage strains were transferred to folder\n",
    "`/global/scratch/seanla/Data/MTBC/test/snps` for testing.\n",
    "\n",
    "Using our custom tool `vcf2nexus.py` located in the folder\n",
    "`/home/seanla/Projects/beijing_ancestor_mtbc/vcf2nexus`, the VCF files were converted into the NEXUS file `vcf2nexus-test.nex` located in the folder `/global/scratch/seanla/Data/MTBC/test`.\n",
    "\n",
    "The file `vcf2nexus-test.nex` was then converted to the PHYLIP format using the command \n",
    "```\n",
    "java -jar jModelTest.jar -d /global/scratch/seanla/Data/MTBC/test/vcf2nexus-test.nex -getPhylip\n",
    "```\n",
    "\n",
    "The output of this command, `vcf2nexus-test.nex.phy`, was given as input to jModelTest with the command:\n",
    "\n",
    "```\n",
    "java -jar jModelTest.jar -d /global/scratch/seanla/Data/MTBC/06-15/vcf2nexus-test.nex.phy -o /global/scratch/seanla/Data/MTBC/06-15/jmt.out -s 11 -f -i -g 4 -AIC -AICc -DT -p -a -w -v\n",
    "```\n",
    "\n",
    "The program determined, using the Akaike Information Criterion, that the transversion model (TVM) was the best fit for our data:\n",
    "\n",
    "```\n",
    "::Best Models::\n",
    "\n",
    "        Model           f(a)    f(c)    f(g)    f(t)    kappa   titv    Ra      Rb      Rc      Rd      Re      Rf      pInv    gamma\n",
    "----------------------------------------------------------------------------------------------------------------------------------------\n",
    "AIC     TVM             0.22    0.29    0.30    0.20    0.00    0.00      0.956   3.461   0.327   0.863   3.461   1.000 N/A     N/A\n",
    "```"
   ]
  },
  {
   "cell_type": "markdown",
   "metadata": {
    "collapsed": true
   },
   "source": [
    "**Thursday, 16 June 2016**\n",
    "\n",
    "The Mega configuration file was generated using the tool `megaproto` contained in the same directory as `megacc`. The parameters chosen were \"nucleotide alignment non-coding\" and neighbor-joining was chosen as the tree construction method.\n",
    "The NEXUS file `vcf2nexus-test.nex` was converted to the FASTA file `vcf2nexus-test.nex.fasta` using the custom tool `nexus2fasta.py`, as MEGA had trouble parsing the NEXUS file. MEGA was used to construct the test phylogenetic tree using neighbor-joining with the command\n",
    "\n",
    "```\n",
    "./megacc -a /global/scratch/seanla/Data/MTBC/test/phylo/mega/infer_NJ_nucleotide.mao -d /global/scratch/seanla/Data/MTBC/test/vcf2nexus-test.nex.fasta -o /global/scratch/seanla/Data/MTBC/test/phylo/mega/test\n",
    "```\n",
    "\n",
    "The optimal tree contained in the NEWICK file `test.nwk` is as such:\n",
    "\n",
    "```\n",
    "((((((ERR550644:55.09090909,ERR550643:57.90909091):172.15000000,ERR550670:280.85000000):121.86111111,ERR550738:140.13888889):10.76562500,ERR550739:151.73437500):74.42187500,((ERR550777:81.02678571,ERR550779:99.97321429):5.29687500,ERR550778:63.70312500):22.48437500):5.85156250,ERR550783:106.57031250,((ERR550659:119.82291667,ERR550658:102.17708333):5.39843750,(ERR550724:195.87500000,ERR550782:71.12500000):7.10156250):2.17968750);\n",
    "```"
   ]
  },
  {
   "cell_type": "markdown",
   "metadata": {},
   "source": [
    "Using the PHYLIP file outputted by jModelTests, PhyML 3.1 was used to construct the optimal phylogenetic tree using maximum likelihood. The command used was\n",
    "\n",
    "```\n",
    "./PhyML-3.1_linux64 -i /global/scratch/seanla/Data/MTBC/test/vcf2nexus-test.nex.phy -b 1 -m JC69 --print_site_lnl\n",
    "```\n",
    "\n",
    "The optimal tree constructed is, in Newick format,\n",
    "\n",
    "```\n",
    "(ERR550644:0.02215525,ERR550643:0.02616126,(ERR550670:0.13626795,(ERR550738:0.05882036,(ERR550739:0.06872271,((ERR550778:0.02495812,(ERR550779:0.04324896,ERR550777:0.03556479)1:0.01020218)1:0.01368089,(ERR550783:0.04717306,(ERR550659:0.05292839,(ERR550658:0.04844957,(ERR550724:0.09116996,ERR550782:0.02820927)1:0.00834740)0:0.00510923)0:0.00439833)1:0.00832579)1:0.04107909)1:0.00791827)1:0.06276943)1:0.08555105);\n",
    "```"
   ]
  },
  {
   "cell_type": "markdown",
   "metadata": {
    "collapsed": true
   },
   "source": [
    "Lastly, BEAST was used to find the optimal distribution of trees using MCMC methods. The program BEAUti was used to create the input XML file `vcf2nexus-test.nex.xml` using default parameters and the NEXUS file `vcf2nexus-test.nex` as input. This file was then fed to BEAST using the command\n",
    "\n",
    "```\n",
    "./beast -overwrite -beagle_off /global/scratch/seanla/Data/MTBC/test/beast/vcf2nexus-test.nex.xml\n",
    "\n",
    "```\n",
    "\n",
    "The output of the operation `vcf2nexus-test.nex.trees` was then analyzed by the program TreeAnnotator provided by BEAST to construct the optimal tree in NEWICK format contained in `vcf2nexus-text.nex.out`, using 10 states as burn-in. The consensus tree generated is in Newick format but unreadable by humans."
   ]
  },
  {
   "cell_type": "markdown",
   "metadata": {},
   "source": [
    "All output files are contained in the directory `/global/scratch/seanla/Data/MTBC/test/`, with each programs' output located in its own folder."
   ]
  },
  {
   "cell_type": "code",
   "execution_count": null,
   "metadata": {
    "collapsed": true
   },
   "outputs": [],
   "source": []
  }
 ],
 "metadata": {
  "kernelspec": {
   "display_name": "Python 2",
   "language": "python",
   "name": "python2"
  },
  "language_info": {
   "codemirror_mode": {
    "name": "ipython",
    "version": 2
   },
   "file_extension": ".py",
   "mimetype": "text/x-python",
   "name": "python",
   "nbconvert_exporter": "python",
   "pygments_lexer": "ipython2",
   "version": "2.7.11"
  }
 },
 "nbformat": 4,
 "nbformat_minor": 0
}
