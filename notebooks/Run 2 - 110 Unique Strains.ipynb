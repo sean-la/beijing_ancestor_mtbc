{
 "cells": [
  {
   "cell_type": "markdown",
   "metadata": {},
   "source": [
    "** 22 June 2016 **\n",
    "\n",
    "The ~150 samples from the Beijing lineage were filtered to remove redundant samples from the same lineage, arriving to a filtered list of 110 unique strains. These unique strains were fed into `convertvcf.py` to construct FASTA and PHYLIP files. This was done with the following commands:\n",
    "\n",
    "```\n",
    "$ run=run2\n",
    "$ inputDir=/home/zhf615/TB_test/MALAWI/test/shuffled/results\n",
    "$ outputPrefix=/global/scratch/seanla/Data/MTBC/$run/snps/$run\n",
    "$ convertVcfDir=/home/seanla/Projects/beijing_ancestor_mtbc/convertvcf\n",
    "$ strains=$convertVcfDir/unique_strains.txt\n",
    "$ convertVcf=$convertVcfDir/convertvcf.py\n",
    "$ phymlDir=$outputPrefix/../phyml\n",
    "$ mkdir -p $outputPrefix/..\n",
    "$ mkdir -p $phymlDir\n",
    "$ python $convertVcf -i $inputDir -o $outputPrefix -s $strains -r \"(\\d|\\D)*_noresi.vcf$\" -f -p\n",
    "$ cp $outputPrefix.phy $phymlDir\n",
    "```\n",
    "\n",
    "The list of the 110 strains used are contained in the directory `/home/seanla/Projects/beijing_ancestor_mtbc/convertvcf/unique_strains.txt`.\n",
    "\n",
    "jModelTest was used to infer the best fit model of nucleotide substitution for our data set. This was done with the following commands:\n",
    "\n",
    "```\n",
    "$ run=run2\n",
    "$ prefix=/global/scratch/seanla/Data/MTBC/$run\n",
    "$ phylip=$prefix/snps/$run.phy\n",
    "$ jmodelDir=$prefix/jmodeltest\n",
    "$ output=$jmodelDir/jmodeltest-results.out\n",
    "$ jModelTest=/home/seanla/Software/jmodeltest-2.1.10/jModelTest.jar\n",
    "$ mkdir -p $jmodelDir\n",
    "$ java -jar $jModelTest -tr ${PBS_NUM_PPN} -d $phylip -o $output -AIC -a -f -g 4 -i -H AIC\n",
    "\n",
    "```\n",
    "\n",
    "MEGA was used to construct a phylogenetic tree using neighbor-joining with the following commands:\n",
    "\n",
    "```\n",
    "$ run=run2\n",
    "$ prefix=/global/scratch/seanla/Data/MTBC/$run\n",
    "$ outputDir=$prefix/mega\n",
    "$ input=$prefix/snps/$run.fasta\n",
    "$ config=$prefix/../mao/infer_NJ_nucleotide.mao\n",
    "$ output=$outputDir/${run}mega\n",
    "$ mega=/home/seanla/Software/mega/megacc\n",
    "$ mkdir -p $outputDir\n",
    "$ mega -a $config -d $input -o $output\n",
    "```\n",
    "\n",
    "The following parameters were set:\n",
    "* Nucleotide alignment (non-coding)\n",
    "* Test of phylogeny - bootstrap with 1000 pseudoreplicates\n",
    "* Substitution model - no. of differences, transitions and transversions\n",
    "* Rates among sites - uniform rates"
   ]
  },
  {
   "cell_type": "code",
   "execution_count": null,
   "metadata": {
    "collapsed": true
   },
   "outputs": [],
   "source": []
  }
 ],
 "metadata": {
  "kernelspec": {
   "display_name": "Python 2",
   "language": "python",
   "name": "python2"
  },
  "language_info": {
   "codemirror_mode": {
    "name": "ipython",
    "version": 2
   },
   "file_extension": ".py",
   "mimetype": "text/x-python",
   "name": "python",
   "nbconvert_exporter": "python",
   "pygments_lexer": "ipython2",
   "version": "2.7.11"
  }
 },
 "nbformat": 4,
 "nbformat_minor": 0
}
