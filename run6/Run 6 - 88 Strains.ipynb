{
 "cells": [
  {
   "cell_type": "markdown",
   "metadata": {},
   "source": [
    "# Run 6 - 88 Strains #\n",
    "## 19 July 2016 ##\n",
    "### Converting VCF to FASTA and PHYLIP ###\n",
    "The VCF files of the strains given in the file `sequences_88.txt` (provided by Fang Zhang by email) were converted to FASTA and PHYLIP formats using the following commands:\n",
    "\n",
    "```bash\n",
    "$ run=run6\n",
    "$ vcfDir=/home/zhf615/TB_test/MALAWI/test/Beijing/results\n",
    "$ projectDir=/home/seanla/Projects/beijing_ancestor_mtbc\n",
    "$ convertVcf=$projectDir/convertvcf/convertvcf.py\n",
    "$ runDir=$projectDir/$run\n",
    "$ snpDir=$runDir/snps\n",
    "$ snpPrefix=$snpDir/$run\n",
    "$ strains=$runDir/sequences_88.txt\n",
    "$\n",
    "$ mkdir -p $snpDir\n",
    "$ python $convertVcf -i $vcfDir -o $snpPrefix -s $strains -r  \"(\\d|\\D)*_unresi_unrepeted_depthfilerted.vcf$\" -f -p\n",
    "```\n",
    "\n",
    "### Finding best fit model of DNA substitution using jModelTest ###\n",
    "The PHYLIP file `snps/run6.phy` outputted by `convertvcf.py` was then inputted into jModelTest to find the best fit model of DNA substitution using the following commands:\n",
    "\n",
    "```bash\n",
    "$ run=run6\n",
    "$ \n",
    "$ prefix=/home/seanla/Projects/beijing_ancestor_mtbc/$run\n",
    "$ phylip=$prefix/snps/$run.phy\n",
    "$ jmodelDir=$prefix/jmodeltest\n",
    "$ output=$jmodelDir/jmodeltest-results.out\n",
    "$ jModelTest=/home/seanla/Software/jmodeltest-2.1.10/jModelTest.jar\n",
    "$\n",
    "$ mkdir -p $jmodelDir\n",
    "$ \n",
    "$ java -jar $jModelTest -tr ${PBS_NUM_PPN} -d $phylip -o $output -AIC -a -f -g 4 -i -H AIC\n",
    "```\n",
    "\n",
    "An explanation of the parameters used is as follows:\n",
    "* -AIC indicates we used the Akaike information criterion to infer the best fit model.\n",
    "* -a indicates we estimated the model-averaged phylogeny for each active criterion.\n",
    "* -f indicates we included models with unequal base frequencies.\n",
    "* -g 4 indicates we included models with rate variation among sites and sets the number of categories to 4.\n",
    "* -i indicates we included models with a proportion invariable sites.\n",
    "* -H AIC indicates we used the AIC information criterion for clustering search. (jModelTest indicated that this option has no effect for our dataset.)"
   ]
  },
  {
   "cell_type": "code",
   "execution_count": null,
   "metadata": {
    "collapsed": true
   },
   "outputs": [],
   "source": []
  }
 ],
 "metadata": {
  "kernelspec": {
   "display_name": "Python 2",
   "language": "python",
   "name": "python2"
  },
  "language_info": {
   "codemirror_mode": {
    "name": "ipython",
    "version": 2
   },
   "file_extension": ".py",
   "mimetype": "text/x-python",
   "name": "python",
   "nbconvert_exporter": "python",
   "pygments_lexer": "ipython2",
   "version": "2.7.11"
  }
 },
 "nbformat": 4,
 "nbformat_minor": 0
}
