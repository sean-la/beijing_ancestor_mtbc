java -jar jModelTest.jar -d /global/scratch/seanla/Data/MTBC/06-15/vcf2nexus-test.nex.phy -o /global/scratch/seanla/Data/MTBC/06-15/jmt.out -s 11 -f -i -g 4 -AIC -AICc -DT -p -a -w -v
